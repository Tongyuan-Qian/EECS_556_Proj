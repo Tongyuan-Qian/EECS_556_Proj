{
 "cells": [
  {
   "cell_type": "code",
   "execution_count": 4,
   "id": "6fc7ac15",
   "metadata": {},
   "outputs": [],
   "source": [
    "import matplotlib.pyplot as plt\n",
    "import os\n",
    "import cv2 as cv\n",
    "import numpy as np"
   ]
  },
  {
   "cell_type": "markdown",
   "id": "bd4ef31a",
   "metadata": {},
   "source": [
    "Steps:\n",
    "Convert left view to CIELAB -> lightness is the monochrome image\n",
    "Right view is the guidance image\n",
    "Original left view is the ground truth\n",
    "\n",
    "Guidance image is downsampled to half size\n",
    "https://en.wikipedia.org/wiki/Bayer_filter\n",
    "Green channel is \"replicated\" to have 2x green a red, blue. \n",
    "(Check whether RGB to Bayer is the same thing) \n",
    "cv2.cvtColor \n",
    "https://docs.opencv.org/4.x/db/d8c/group__cudaimgproc__color.html#ga7fb153572b573ebd2d7610fcbe64166e\n",
    "SceneFlow -> get to later"
   ]
  },
  {
   "cell_type": "code",
   "execution_count": 6,
   "id": "f061893b",
   "metadata": {},
   "outputs": [],
   "source": [
    "os.chdir(os.getcwd() + '\\All-2views')"
   ]
  },
  {
   "cell_type": "code",
   "execution_count": 7,
   "id": "40ac281a",
   "metadata": {},
   "outputs": [
    {
     "data": {
      "text/plain": [
       "'C:\\\\Users\\\\jpienkny\\\\Documents\\\\EECS 556\\\\Report\\\\All-2views'"
      ]
     },
     "execution_count": 7,
     "metadata": {},
     "output_type": "execute_result"
    }
   ],
   "source": [
    "base_dir = os.getcwd()\n",
    "base_dir"
   ]
  },
  {
   "cell_type": "code",
   "execution_count": 8,
   "id": "23e9c0ea",
   "metadata": {},
   "outputs": [
    {
     "data": {
      "text/plain": [
       "['Art',\n",
       " 'Books',\n",
       " 'Computer',\n",
       " 'Dolls',\n",
       " 'Drumsticks',\n",
       " 'Dwarves',\n",
       " 'Laundry',\n",
       " 'Moebius',\n",
       " 'Reindeer']"
      ]
     },
     "execution_count": 8,
     "metadata": {},
     "output_type": "execute_result"
    }
   ],
   "source": [
    "os.listdir()"
   ]
  },
  {
   "cell_type": "markdown",
   "id": "74eebe86",
   "metadata": {},
   "source": [
    "Let's use \"Art\" as a sample. Will make this more seamless down the line."
   ]
  },
  {
   "cell_type": "code",
   "execution_count": 9,
   "id": "693e02f4",
   "metadata": {},
   "outputs": [],
   "source": [
    "views_wanted = ['\\Art', '\\Books', '\\Computer']\n",
    "image_list = [] # List Format: it is n x 2, n is the number of images, [0] is left (Ground Truth), [1] is right (Guidance), [2] is mono\n",
    "disp_list = [] # Same list format, disparity matrices if we need\n",
    "\n",
    "cur_dir = base_dir\n",
    "for view in views_wanted:\n",
    "    new_dir = cur_dir + view\n",
    "    os.chdir(new_dir)\n",
    "    img_left = cv.imread('view1.png')\n",
    "    assert img_left is not None, \"file could not be read, check with os.path.exists()\"\n",
    "    img_right = cv.imread('view5.png')\n",
    "    assert img_right is not None, \"file could not be read, check with os.path.exists()\"\n",
    "    \n",
    "    mono = cv.cvtColor(img_left, cv.COLOR_BGR2LAB) # Mono image\n",
    "    \n",
    "    image_list.append([img_left, img_right, mono[:,:,0]]) # Only take luminance image\n",
    "    disp_left = cv.imread('disp1.png')\n",
    "    disp_right = cv.imread('disp5.png')\n",
    "    if disp_left is not None:\n",
    "        disp_left = cv.cvtColor(disp_left, cv.COLOR_BGR2GRAY)\n",
    "    if disp_right is not None:\n",
    "        disp_right =  cv.cvtColor(disp_right, cv.COLOR_BGR2GRAY) # If an image doesn't have a disparity img, will store as None, not fail. \n",
    "    disp_list.append([disp_left, disp_right])\n",
    "    cur_dir = base_dir\n",
    "    \n",
    "    \n"
   ]
  },
  {
   "cell_type": "code",
   "execution_count": 10,
   "id": "f8ad1622",
   "metadata": {},
   "outputs": [
    {
     "data": {
      "text/plain": [
       "3"
      ]
     },
     "execution_count": 10,
     "metadata": {},
     "output_type": "execute_result"
    }
   ],
   "source": [
    "len(image_list)"
   ]
  },
  {
   "cell_type": "markdown",
   "id": "b76b406f",
   "metadata": {},
   "source": [
    "Guidance Image Manipulation: \n",
    "Downsample to half size (both dims), then convert to bayer format, then do demosaicing interpolation/upsampling"
   ]
  },
  {
   "cell_type": "code",
   "execution_count": 11,
   "id": "3f5c12a8",
   "metadata": {},
   "outputs": [
    {
     "data": {
      "text/plain": [
       "-1"
      ]
     },
     "execution_count": 11,
     "metadata": {},
     "output_type": "execute_result"
    }
   ],
   "source": [
    "\n",
    "test_image = image_list[0][1] # Original Guidance Image/Right Imagcal\n",
    "test_disp = disp_list[0][1]\n",
    "window_name = 'image'\n",
    "cv.imshow(window_name, test_image)\n",
    "cv.waitKey(0)"
   ]
  },
  {
   "cell_type": "code",
   "execution_count": 12,
   "id": "eb0da16b",
   "metadata": {},
   "outputs": [
    {
     "data": {
      "text/plain": [
       "-1"
      ]
     },
     "execution_count": 12,
     "metadata": {},
     "output_type": "execute_result"
    }
   ],
   "source": [
    "cv.imshow(window_name, test_disp)\n",
    "cv.waitKey(0)\n",
    "          "
   ]
  },
  {
   "cell_type": "code",
   "execution_count": 13,
   "id": "afa110c1",
   "metadata": {},
   "outputs": [],
   "source": [
    "cv.destroyAllWindows()"
   ]
  },
  {
   "cell_type": "markdown",
   "id": "ed84bbc0",
   "metadata": {},
   "source": [
    "Max Disp -> Set D"
   ]
  },
  {
   "cell_type": "code",
   "execution_count": null,
   "id": "6374d16b",
   "metadata": {},
   "outputs": [],
   "source": [
    "plt.hist(test_disp)\n",
    "plt.show()"
   ]
  },
  {
   "cell_type": "code",
   "execution_count": null,
   "id": "72cbe36a",
   "metadata": {},
   "outputs": [],
   "source": [
    "test_half = cv.resize(test_image, (0,0), fx = 0.5, fy = 0.5)"
   ]
  },
  {
   "cell_type": "code",
   "execution_count": null,
   "id": "99899a66",
   "metadata": {},
   "outputs": [],
   "source": [
    "test_half.shape # BGR, need BGGR"
   ]
  },
  {
   "cell_type": "code",
   "execution_count": null,
   "id": "bc2eb479",
   "metadata": {},
   "outputs": [],
   "source": [
    "test_half_g = test_half[:,:,1]"
   ]
  },
  {
   "cell_type": "code",
   "execution_count": null,
   "id": "7eef6994",
   "metadata": {},
   "outputs": [],
   "source": [
    "cv.imshow(window_name, test_half)\n",
    "cv.waitKey(0)"
   ]
  },
  {
   "cell_type": "code",
   "execution_count": null,
   "id": "cc4dec7c",
   "metadata": {},
   "outputs": [],
   "source": [
    "test_half_g.shape"
   ]
  },
  {
   "cell_type": "code",
   "execution_count": null,
   "id": "ebca34c7",
   "metadata": {},
   "outputs": [],
   "source": [
    "bggr_format.shape"
   ]
  },
  {
   "cell_type": "code",
   "execution_count": null,
   "id": "a7f271ac",
   "metadata": {},
   "outputs": [],
   "source": [
    "demosaiced = cv.cvtColor(bggr_format, cv.COLOR_BayerBGGR2BGR)"
   ]
  },
  {
   "cell_type": "code",
   "execution_count": null,
   "id": "cbc0f133",
   "metadata": {},
   "outputs": [],
   "source": [
    "B = test_half[:,:,0]\n",
    "B.shape"
   ]
  },
  {
   "cell_type": "code",
   "execution_count": null,
   "id": "3438c638",
   "metadata": {},
   "outputs": [],
   "source": [
    "B[0::2].shape"
   ]
  },
  {
   "cell_type": "code",
   "execution_count": null,
   "id": "042f08bb",
   "metadata": {},
   "outputs": [],
   "source": [
    "bggr_format[0::,0::] = test_half[:,:,0]"
   ]
  },
  {
   "cell_type": "code",
   "execution_count": null,
   "id": "448d58c4",
   "metadata": {},
   "outputs": [],
   "source": [
    "bggr_format[0::,0::].shape"
   ]
  },
  {
   "cell_type": "code",
   "execution_count": 15,
   "id": "3f5160b8",
   "metadata": {},
   "outputs": [],
   "source": [
    "def BGR2BayerBGGR(BGR): # Take in full image # Inspired from https://github.com/redpower1998/RGB2Bayer/blob/main/RGBToBayer/RGBToBayer.cpp\n",
    "    rows,cols,_ = BGR.shape # \n",
    "    \n",
    "    BayerBGGR = np.zeros([rows, cols])\n",
    "    \n",
    "    for i in range(rows):\n",
    "        for j in range(cols):\n",
    "            \n",
    "            pix = BGR[i,j,:] # BGR Pixels\n",
    "            \n",
    "            if (i % 2 == 1) and (j % 2 == 1):\n",
    "                BayerBGGR[i,j] = BGR[i,j,0] # Blue\n",
    "            \n",
    "            elif ((i % 2 == 1) and (j % 2 == 0)) or ((i % 2 == 0) and (j % 2 == 1)):\n",
    "                BayerBGGR[i,j] = BGR[i,j,1] # Green\n",
    "        \n",
    "            else:\n",
    "                BayerBGGR[i,j] = BGR[i,j,2] # Red\n",
    "                \n",
    "            \n",
    "            \n",
    "    \n",
    "    \n",
    "    \n",
    "    \n",
    "    \n",
    "    \n",
    "    \n",
    "   \n",
    "    \n",
    "    return BayerBGGR\n"
   ]
  },
  {
   "cell_type": "code",
   "execution_count": 16,
   "id": "60970d82",
   "metadata": {},
   "outputs": [
    {
     "data": {
      "text/plain": [
       "(370, 463)"
      ]
     },
     "execution_count": 16,
     "metadata": {},
     "output_type": "execute_result"
    }
   ],
   "source": [
    "bayer_out = np.uint8(BGR2BayerBGGR(test_image))\n",
    "bayer_out.shape"
   ]
  },
  {
   "cell_type": "code",
   "execution_count": 17,
   "id": "5f31c625",
   "metadata": {},
   "outputs": [],
   "source": [
    "processed_image = cv.demosaicing(bayer_out, cv.COLOR_BayerBG2BGR) # Bilinear Interpolation"
   ]
  },
  {
   "cell_type": "code",
   "execution_count": null,
   "id": "f2f4015e",
   "metadata": {},
   "outputs": [],
   "source": [
    "cv.imshow(window_name, processed_image)\n",
    "cv.waitKey(0)"
   ]
  },
  {
   "cell_type": "code",
   "execution_count": 18,
   "id": "a97c1866",
   "metadata": {},
   "outputs": [],
   "source": [
    "comp_image = processed_image.astype(float)"
   ]
  },
  {
   "cell_type": "code",
   "execution_count": 19,
   "id": "71373017",
   "metadata": {
    "scrolled": true
   },
   "outputs": [],
   "source": [
    "denois = cv.fastNlMeansDenoisingColored(processed_image)"
   ]
  },
  {
   "cell_type": "code",
   "execution_count": 20,
   "id": "57079f75",
   "metadata": {},
   "outputs": [
    {
     "data": {
      "text/plain": [
       "-1"
      ]
     },
     "execution_count": 20,
     "metadata": {},
     "output_type": "execute_result"
    }
   ],
   "source": [
    "\n",
    "cv.imshow(window_name, denois)\n",
    "cv.waitKey(0)"
   ]
  },
  {
   "cell_type": "code",
   "execution_count": 22,
   "id": "a627aa46",
   "metadata": {},
   "outputs": [],
   "source": [
    "import colour # Evaluation Metrics"
   ]
  },
  {
   "cell_type": "markdown",
   "id": "109688ac",
   "metadata": {},
   "source": [
    "PSNR: \n",
    "https://docs.opencv.org/4.x/d5/dc4/tutorial_video_input_psnr_ssim.html#autotoc_md217\n",
    "\n",
    "SSIM: \n",
    "https://scikit-image.org/docs/stable/api/skimage.metrics.html"
   ]
  },
  {
   "cell_type": "code",
   "execution_count": 25,
   "id": "82eb42fe",
   "metadata": {},
   "outputs": [
    {
     "data": {
      "text/plain": [
       "33.20616926310984"
      ]
     },
     "execution_count": 25,
     "metadata": {},
     "output_type": "execute_result"
    }
   ],
   "source": [
    "psnr = cv.PSNR(processed_image, test_image)\n",
    "psnr\n"
   ]
  },
  {
   "cell_type": "code",
   "execution_count": 26,
   "id": "a7265e30",
   "metadata": {},
   "outputs": [
    {
     "ename": "AttributeError",
     "evalue": "module 'cv2' has no attribute 'SSIM'",
     "output_type": "error",
     "traceback": [
      "\u001b[1;31m---------------------------------------------------------------------------\u001b[0m",
      "\u001b[1;31mAttributeError\u001b[0m                            Traceback (most recent call last)",
      "Cell \u001b[1;32mIn[26], line 1\u001b[0m\n\u001b[1;32m----> 1\u001b[0m cv\u001b[38;5;241m.\u001b[39mSSIM(processed_image, test_image)\n",
      "\u001b[1;31mAttributeError\u001b[0m: module 'cv2' has no attribute 'SSIM'"
     ]
    }
   ],
   "source": []
  },
  {
   "cell_type": "markdown",
   "id": "54938eaf",
   "metadata": {},
   "source": [
    "https://python-colormath.readthedocs.io/en/latest/delta_e.html delta E"
   ]
  },
  {
   "cell_type": "code",
   "execution_count": null,
   "id": "c6c6e80f",
   "metadata": {},
   "outputs": [],
   "source": [
    "double getPSNR(const Mat& I1, const Mat& I2)\n",
    "{\n",
    " Mat s1;\n",
    " absdiff(I1, I2, s1); // |I1 - I2|\n",
    " s1.convertTo(s1, CV_32F); // cannot make a square on 8 bits\n",
    " s1 = s1.mul(s1); // |I1 - I2|^2\n",
    " \n",
    " Scalar s = sum(s1); // sum elements per channel\n",
    " \n",
    " double sse = s.val[0] + s.val[1] + s.val[2]; // sum channels\n",
    " \n",
    " if( sse <= 1e-10) // for small values return zero\n",
    " return 0;\n",
    " else\n",
    " {\n",
    " double mse = sse / (double)(I1.channels() * I1.total());\n",
    " double psnr = 10.0 * log10((255 * 255) / mse);\n",
    " return psnr;\n",
    " }\n",
    "}"
   ]
  },
  {
   "cell_type": "markdown",
   "id": "3a15429f",
   "metadata": {},
   "source": [
    "Algorithm Skeleton\n",
    "\n",
    "Input Parameters: NOTE: We need code to make disparity maps to set Wh same as paper, but for now we can use the examples that have pregenerated maps."
   ]
  },
  {
   "cell_type": "code",
   "execution_count": null,
   "id": "b6f5499b",
   "metadata": {},
   "outputs": [],
   "source": [
    "S = 16 # Patch size sxs\n",
    "Wh = D_Test # maximum Disparity of images\n",
    "Wv = 30 # Vertical Search Range\n",
    "N = 5 # Using Figure 4\n",
    "T = N # Paper Results"
   ]
  },
  {
   "cell_type": "code",
   "execution_count": null,
   "id": "85f45f58",
   "metadata": {},
   "outputs": [],
   "source": [
    "L = np.zeros(test_image.shape)\n",
    "U_a = np.zeros(test_image.shape)\n",
    "U_b = np.zeros(test_image.shape)"
   ]
  },
  {
   "cell_type": "code",
   "execution_count": null,
   "id": "4ce1e46e",
   "metadata": {},
   "outputs": [],
   "source": [
    "BGR2BayerBGGR(test_half)"
   ]
  },
  {
   "cell_type": "code",
   "execution_count": null,
   "id": "4ee3352c",
   "metadata": {},
   "outputs": [],
   "source": [
    "help cv.demosaicing()"
   ]
  },
  {
   "cell_type": "code",
   "execution_count": null,
   "id": "c138683a",
   "metadata": {},
   "outputs": [],
   "source": [
    "test_half.shape"
   ]
  },
  {
   "cell_type": "code",
   "execution_count": null,
   "id": "f717f65b",
   "metadata": {},
   "outputs": [],
   "source": []
  }
 ],
 "metadata": {
  "kernelspec": {
   "display_name": "Python 3 (ipykernel)",
   "language": "python",
   "name": "python3"
  },
  "language_info": {
   "codemirror_mode": {
    "name": "ipython",
    "version": 3
   },
   "file_extension": ".py",
   "mimetype": "text/x-python",
   "name": "python",
   "nbconvert_exporter": "python",
   "pygments_lexer": "ipython3",
   "version": "3.11.5"
  }
 },
 "nbformat": 4,
 "nbformat_minor": 5
}
