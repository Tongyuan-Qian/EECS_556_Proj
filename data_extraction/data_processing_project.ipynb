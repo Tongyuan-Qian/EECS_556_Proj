{
 "cells": [
  {
   "cell_type": "code",
   "execution_count": 39,
   "id": "6fc7ac15",
   "metadata": {},
   "outputs": [],
   "source": [
    "import matplotlib.pyplot as plt\n",
    "import os\n",
    "import cv2 as cv\n",
    "import numpy as np"
   ]
  },
  {
   "cell_type": "markdown",
   "id": "bd4ef31a",
   "metadata": {},
   "source": [
    "Steps:\n",
    "Convert left view to CIELAB -> lightness is the monochrome image\n",
    "Right view is the guidance image\n",
    "Original left view is the ground truth\n",
    "\n",
    "Guidance image is downsampled to half size\n",
    "https://en.wikipedia.org/wiki/Bayer_filter\n",
    "Green channel is \"replicated\" to have 2x green a red, blue. \n",
    "(Check whether RGB to Bayer is the same thing) \n",
    "cv2.cvtColor \n",
    "https://docs.opencv.org/4.x/db/d8c/group__cudaimgproc__color.html#ga7fb153572b573ebd2d7610fcbe64166e\n",
    "SceneFlow -> get to later"
   ]
  },
  {
   "cell_type": "code",
   "execution_count": 5,
   "id": "bb2f5826",
   "metadata": {},
   "outputs": [
    {
     "data": {
      "text/plain": [
       "['.ipynb_checkpoints',\n",
       " 'ALL-2views',\n",
       " 'ALL-2views.zip',\n",
       " 'data_processing_project.ipynb',\n",
       " 'SVD_Stewart_Wedin_Theorem.pdf']"
      ]
     },
     "execution_count": 5,
     "metadata": {},
     "output_type": "execute_result"
    }
   ],
   "source": [
    "os.listdir(cur_dir)"
   ]
  },
  {
   "cell_type": "code",
   "execution_count": 6,
   "id": "4277200a",
   "metadata": {},
   "outputs": [],
   "source": [
    "os.chdir(cur_dir + '\\All-2views')"
   ]
  },
  {
   "cell_type": "code",
   "execution_count": 7,
   "id": "cd021ebb",
   "metadata": {},
   "outputs": [
    {
     "data": {
      "text/plain": [
       "'C:\\\\Users\\\\jpienkny\\\\Documents\\\\EECS 556\\\\Report\\\\All-2views'"
      ]
     },
     "execution_count": 7,
     "metadata": {},
     "output_type": "execute_result"
    }
   ],
   "source": [
    "base_dir = os.getcwd()\n",
    "base_dir"
   ]
  },
  {
   "cell_type": "code",
   "execution_count": 8,
   "id": "a9b599c1",
   "metadata": {},
   "outputs": [
    {
     "data": {
      "text/plain": [
       "['Art',\n",
       " 'Books',\n",
       " 'Computer',\n",
       " 'Dolls',\n",
       " 'Drumsticks',\n",
       " 'Dwarves',\n",
       " 'Laundry',\n",
       " 'Moebius',\n",
       " 'Reindeer']"
      ]
     },
     "execution_count": 8,
     "metadata": {},
     "output_type": "execute_result"
    }
   ],
   "source": [
    "os.listdir()"
   ]
  },
  {
   "cell_type": "markdown",
   "id": "d3bd3667",
   "metadata": {},
   "source": [
    "Let's use \"Art\" as a sample. Will make this more seamless down the line."
   ]
  },
  {
   "cell_type": "code",
   "execution_count": 18,
   "id": "0138c1c3",
   "metadata": {},
   "outputs": [],
   "source": [
    "views_wanted = ['\\Art', '\\Books', '\\Computer']\n",
    "image_list = [] # List Format: it is n x 2, n is the number of images, [0] is left (Ground Truth), [1] is right (Guidance), [2] is mono\n",
    "disp_list = [] # Same list format, disparity matrices if we need\n",
    "\n",
    "cur_dir = base_dir\n",
    "for view in views_wanted:\n",
    "    new_dir = cur_dir + view\n",
    "    os.chdir(new_dir)\n",
    "    img_left = cv.imread('view1.png')\n",
    "    assert img_left is not None, \"file could not be read, check with os.path.exists()\"\n",
    "    img_right = cv.imread('view5.png')\n",
    "    assert img_right is not None, \"file could not be read, check with os.path.exists()\"\n",
    "    \n",
    "    mono = cv.cvtColor(img_left, cv.COLOR_BGR2LAB) # Mono image\n",
    "    \n",
    "    image_list.append([img_left, img_right, mono[:,:,0]]) # Only take luminance image\n",
    "    \n",
    "    disp_left = cv.imread('disp1.png')\n",
    "    disp_right = cv.imread('disp5.png') # If an image doesn't have a disparity img, will store as None, not fail. \n",
    "    disp_list.append([disp_left, disp_right])\n",
    "    cur_dir = base_dir\n",
    "    \n",
    "    \n"
   ]
  },
  {
   "cell_type": "code",
   "execution_count": 11,
   "id": "f26d4770",
   "metadata": {},
   "outputs": [
    {
     "data": {
      "text/plain": [
       "3"
      ]
     },
     "execution_count": 11,
     "metadata": {},
     "output_type": "execute_result"
    }
   ],
   "source": [
    "len(image_list)"
   ]
  },
  {
   "cell_type": "markdown",
   "id": "628d562d",
   "metadata": {},
   "source": [
    "Guidance Image Manipulation: \n",
    "Downsample to half size (both dims), then convert to bayer format, then do demosaicing interpolation/upsampling"
   ]
  },
  {
   "cell_type": "code",
   "execution_count": 28,
   "id": "0281c1ca",
   "metadata": {},
   "outputs": [
    {
     "data": {
      "text/plain": [
       "13"
      ]
     },
     "execution_count": 28,
     "metadata": {},
     "output_type": "execute_result"
    }
   ],
   "source": [
    "\n",
    "test_image = image_list[0][1] # Original Guidance Image/Right Image\n",
    "window_name = 'image'\n",
    "cv.imshow(window_name, test_image)\n",
    "cv.waitKey(0)"
   ]
  },
  {
   "cell_type": "code",
   "execution_count": 29,
   "id": "8301e1eb",
   "metadata": {},
   "outputs": [],
   "source": [
    "cv.destroyAllWindows()"
   ]
  },
  {
   "cell_type": "code",
   "execution_count": 30,
   "id": "056a9f56",
   "metadata": {
    "scrolled": true
   },
   "outputs": [
    {
     "data": {
      "text/plain": [
       "(370, 463, 3)"
      ]
     },
     "execution_count": 30,
     "metadata": {},
     "output_type": "execute_result"
    }
   ],
   "source": [
    "test_image.shape"
   ]
  },
  {
   "cell_type": "code",
   "execution_count": 31,
   "id": "9a95fdb7",
   "metadata": {},
   "outputs": [],
   "source": [
    "test_half = cv.resize(test_image, (0,0), fx = 0.5, fy = 0.5)"
   ]
  },
  {
   "cell_type": "code",
   "execution_count": 32,
   "id": "6e000d6c",
   "metadata": {},
   "outputs": [
    {
     "data": {
      "text/plain": [
       "(185, 232, 3)"
      ]
     },
     "execution_count": 32,
     "metadata": {},
     "output_type": "execute_result"
    }
   ],
   "source": [
    "test_half.shape # BGR, need BGGR"
   ]
  },
  {
   "cell_type": "code",
   "execution_count": 34,
   "id": "dd72dd35",
   "metadata": {},
   "outputs": [],
   "source": [
    "test_half_g = test_half[:,:,1]"
   ]
  },
  {
   "cell_type": "code",
   "execution_count": 33,
   "id": "aaf3cd8e",
   "metadata": {},
   "outputs": [
    {
     "data": {
      "text/plain": [
       "-1"
      ]
     },
     "execution_count": 33,
     "metadata": {},
     "output_type": "execute_result"
    }
   ],
   "source": [
    "cv.imshow(window_name, test_half)\n",
    "cv.waitKey(0)"
   ]
  },
  {
   "cell_type": "code",
   "execution_count": 35,
   "id": "4a591a58",
   "metadata": {},
   "outputs": [
    {
     "data": {
      "text/plain": [
       "(185, 232)"
      ]
     },
     "execution_count": 35,
     "metadata": {},
     "output_type": "execute_result"
    }
   ],
   "source": [
    "test_half_g.shape"
   ]
  },
  {
   "cell_type": "code",
   "execution_count": 62,
   "id": "6609f0fe",
   "metadata": {},
   "outputs": [],
   "source": [
    "bggr_format = np.zeros([test_half.shape[0] * 2,test_half.shape[1] * 2])"
   ]
  },
  {
   "cell_type": "code",
   "execution_count": 63,
   "id": "032dd023",
   "metadata": {},
   "outputs": [
    {
     "data": {
      "text/plain": [
       "(370, 464)"
      ]
     },
     "execution_count": 63,
     "metadata": {},
     "output_type": "execute_result"
    }
   ],
   "source": [
    "bggr_format.shape"
   ]
  },
  {
   "cell_type": "code",
   "execution_count": 44,
   "id": "87370429",
   "metadata": {},
   "outputs": [],
   "source": [
    "bggr_format[:,:,0] = test_half[:,:,0] #B\n",
    "bggr_format[:,:,1] = test_half[:,:,1] #G\n",
    "bggr_format[:,:,2] = test_half[:,:,1] #G\n",
    "bggr_format[:,:,3] = test_half[:,:,2] #R"
   ]
  },
  {
   "cell_type": "code",
   "execution_count": 45,
   "id": "6731f4d9",
   "metadata": {},
   "outputs": [
    {
     "data": {
      "text/plain": [
       "(185, 232, 4)"
      ]
     },
     "execution_count": 45,
     "metadata": {},
     "output_type": "execute_result"
    }
   ],
   "source": [
    "bggr_format.shape"
   ]
  },
  {
   "cell_type": "code",
   "execution_count": 51,
   "id": "06bc0640",
   "metadata": {},
   "outputs": [
    {
     "ename": "error",
     "evalue": "OpenCV(4.9.0) D:\\a\\opencv-python\\opencv-python\\opencv\\modules\\imgproc\\src\\demosaicing.cpp:1693: error: (-215:Assertion failed) depth == CV_8U || depth == CV_16U in function 'cv::demosaicing'\n",
     "output_type": "error",
     "traceback": [
      "\u001b[1;31m---------------------------------------------------------------------------\u001b[0m",
      "\u001b[1;31merror\u001b[0m                                     Traceback (most recent call last)",
      "Cell \u001b[1;32mIn[51], line 1\u001b[0m\n\u001b[1;32m----> 1\u001b[0m demosaiced \u001b[38;5;241m=\u001b[39m cv\u001b[38;5;241m.\u001b[39mcvtColor(bggr_format, cv\u001b[38;5;241m.\u001b[39mCOLOR_BayerBGGR2BGR)\n",
      "\u001b[1;31merror\u001b[0m: OpenCV(4.9.0) D:\\a\\opencv-python\\opencv-python\\opencv\\modules\\imgproc\\src\\demosaicing.cpp:1693: error: (-215:Assertion failed) depth == CV_8U || depth == CV_16U in function 'cv::demosaicing'\n"
     ]
    }
   ],
   "source": [
    "demosaiced = cv.cvtColor(bggr_format, cv.COLOR_BayerBGGR2BGR)"
   ]
  },
  {
   "cell_type": "code",
   "execution_count": 61,
   "id": "14fc4ede",
   "metadata": {},
   "outputs": [
    {
     "data": {
      "text/plain": [
       "(185, 232)"
      ]
     },
     "execution_count": 61,
     "metadata": {},
     "output_type": "execute_result"
    }
   ],
   "source": [
    "B = test_half[:,:,0]\n",
    "B.shape"
   ]
  },
  {
   "cell_type": "code",
   "execution_count": 60,
   "id": "8341a7de",
   "metadata": {},
   "outputs": [
    {
     "data": {
      "text/plain": [
       "(93, 232)"
      ]
     },
     "execution_count": 60,
     "metadata": {},
     "output_type": "execute_result"
    }
   ],
   "source": [
    "B[0::2].shape"
   ]
  },
  {
   "cell_type": "code",
   "execution_count": 64,
   "id": "2938cdf7",
   "metadata": {},
   "outputs": [
    {
     "ename": "ValueError",
     "evalue": "could not broadcast input array from shape (185,232) into shape (370,464)",
     "output_type": "error",
     "traceback": [
      "\u001b[1;31m---------------------------------------------------------------------------\u001b[0m",
      "\u001b[1;31mValueError\u001b[0m                                Traceback (most recent call last)",
      "Cell \u001b[1;32mIn[64], line 1\u001b[0m\n\u001b[1;32m----> 1\u001b[0m bggr_format[\u001b[38;5;241m0\u001b[39m::,\u001b[38;5;241m0\u001b[39m::] \u001b[38;5;241m=\u001b[39m test_half[:,:,\u001b[38;5;241m0\u001b[39m]\n",
      "\u001b[1;31mValueError\u001b[0m: could not broadcast input array from shape (185,232) into shape (370,464)"
     ]
    }
   ],
   "source": [
    "bggr_format[0::,0::] = test_half[:,:,0]"
   ]
  },
  {
   "cell_type": "code",
   "execution_count": 65,
   "id": "07a204df",
   "metadata": {},
   "outputs": [
    {
     "data": {
      "text/plain": [
       "(370, 464)"
      ]
     },
     "execution_count": 65,
     "metadata": {},
     "output_type": "execute_result"
    }
   ],
   "source": [
    "bggr_format[0::,0::].shape"
   ]
  },
  {
   "cell_type": "markdown",
   "id": "761e88ba",
   "metadata": {},
   "source": [
    "Algorithm Skeleton\n",
    "\n",
    "Input Parameters:"
   ]
  },
  {
   "cell_type": "code",
   "execution_count": null,
   "id": "3af4c042",
   "metadata": {},
   "outputs": [],
   "source": [
    "S = \n",
    "Wh = \n",
    "Wv = \n",
    "N = 4 # Using Figure 4\n",
    "T = N # Paper Results"
   ]
  },
  {
   "cell_type": "code",
   "execution_count": 67,
   "id": "85c634ac",
   "metadata": {},
   "outputs": [],
   "source": [
    "L = np.zeros(test_image.shape)\n",
    "U_a = np.zeros(test_image.shape)\n",
    "U_b = np.zeros(test_image.shape)"
   ]
  },
  {
   "cell_type": "code",
   "execution_count": null,
   "id": "5a6aa325",
   "metadata": {},
   "outputs": [],
   "source": []
  }
 ],
 "metadata": {
  "kernelspec": {
   "display_name": "Python 3 (ipykernel)",
   "language": "python",
   "name": "python3"
  },
  "language_info": {
   "codemirror_mode": {
    "name": "ipython",
    "version": 3
   },
   "file_extension": ".py",
   "mimetype": "text/x-python",
   "name": "python",
   "nbconvert_exporter": "python",
   "pygments_lexer": "ipython3",
   "version": "3.11.5"
  }
 },
 "nbformat": 4,
 "nbformat_minor": 5
}
